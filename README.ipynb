{
 "cells": [
  {
   "cell_type": "markdown",
   "metadata": {},
   "source": [
    "# Cinema Management System\n",
    "The app I developed is a cinema management system for cinema managers. The movie in this system include the name, star-rating and type of moives, and managers can CRUD movie items. The system is developed based on the Flask-MongoDB Web App(https://github.com/dbdesign-students-fall2022/flask-mongodb-web-app). The app is rendered by Bootstrap(https://getbootstrap.com/).\n"
   ]
  }
 ],
 "metadata": {
  "kernelspec": {
   "display_name": "Python 3 (ipykernel)",
   "language": "python",
   "name": "python3"
  },
  "language_info": {
   "codemirror_mode": {
    "name": "ipython",
    "version": 3
   },
   "file_extension": ".py",
   "mimetype": "text/x-python",
   "name": "python",
   "nbconvert_exporter": "python",
   "pygments_lexer": "ipython3",
   "version": "3.9.7"
  },
  "vscode": {
   "interpreter": {
    "hash": "1bd563f9392650f926e2967226b7cc9587327e64f60b5a4eb085228cbeba1c20"
   }
  }
 },
 "nbformat": 4,
 "nbformat_minor": 2
}
